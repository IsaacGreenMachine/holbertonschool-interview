{
 "cells": [
  {
   "cell_type": "code",
   "execution_count": 22,
   "id": "2aa8ee70-9f96-4699-87b9-dac9a04e6002",
   "metadata": {},
   "outputs": [],
   "source": [
    "def island_perimeter(grid):\n",
    "    perimeter = 0\n",
    "    for row in range(len(grid)):\n",
    "        for column in range(len(grid[row])):\n",
    "            if grid[row][column] == 1:\n",
    "                # only checking top and left sides of island since all islands\n",
    "                # have equal number of top and bottom, left and right sides\n",
    "                perimeter += [grid[row - 1][column], \n",
    "                              grid[row][column - 1], \n",
    "                             ].count(0)\n",
    "    return perimeter * 2"
   ]
  },
  {
   "cell_type": "code",
   "execution_count": 23,
   "id": "23e11ee0-8fad-49ed-a495-ebe6cad48161",
   "metadata": {},
   "outputs": [
    {
     "name": "stdout",
     "output_type": "stream",
     "text": [
      "12\n"
     ]
    }
   ],
   "source": [
    "grid = [[0, 0, 0, 0, 0, 0], \n",
    "        [0, 1, 0, 0, 0, 0], \n",
    "        [0, 1, 0, 0, 0, 0], \n",
    "        [0, 1, 1, 1, 0, 0], \n",
    "        [0, 0, 0, 0, 0, 0]]\n",
    "print(island_perimeter(grid))"
   ]
  }
 ],
 "metadata": {
  "kernelspec": {
   "display_name": "Python 3 (ipykernel)",
   "language": "python",
   "name": "python3"
  },
  "language_info": {
   "codemirror_mode": {
    "name": "ipython",
    "version": 3
   },
   "file_extension": ".py",
   "mimetype": "text/x-python",
   "name": "python",
   "nbconvert_exporter": "python",
   "pygments_lexer": "ipython3",
   "version": "3.9.13"
  }
 },
 "nbformat": 4,
 "nbformat_minor": 5
}
